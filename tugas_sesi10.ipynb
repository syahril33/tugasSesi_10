{
 "cells": [
  {
   "cell_type": "code",
   "execution_count": 5,
   "id": "eaf7626f-1c67-4e87-83f8-780d131dc7a7",
   "metadata": {},
   "outputs": [
    {
     "name": "stdout",
     "output_type": "stream",
     "text": [
      "   Age  Income  Gender Marital_Status Education_Level Employment_Status  \\\n",
      "0   56   25903    Male         Single          Master           Student   \n",
      "1   69   53051  Female        Married             PhD     Self-employed   \n",
      "2   46   38654  Female        Widowed             PhD     Self-employed   \n",
      "3   32   28666    Male        Widowed             PhD          Employed   \n",
      "4   60   40301    Male       Divorced        Bachelor     Self-employed   \n",
      "\n",
      "   Credit_Score  Loan_Amount Loan_Purpose  Default  \n",
      "0           643        43025     Personal        0  \n",
      "1           679        42381     Business        0  \n",
      "2           589        36651         Home        0  \n",
      "3           739        34972         Home        1  \n",
      "4           722        17928    Education        0  \n",
      "\n",
      "Statistik Deskriptif:\n",
      "               Age        Income  Gender Marital_Status Education_Level  \\\n",
      "count   1000.00000   1000.000000    1000           1000            1000   \n",
      "unique         NaN           NaN       2              4               4   \n",
      "top            NaN           NaN  Female         Single     High School   \n",
      "freq           NaN           NaN     504            267             262   \n",
      "mean      43.81900  50863.121000     NaN            NaN             NaN   \n",
      "std       14.99103  14823.257362     NaN            NaN             NaN   \n",
      "min       18.00000   6556.000000     NaN            NaN             NaN   \n",
      "25%       31.00000  40822.250000     NaN            NaN             NaN   \n",
      "50%       44.00000  50807.000000     NaN            NaN             NaN   \n",
      "75%       56.00000  60281.750000     NaN            NaN             NaN   \n",
      "max       69.00000  89485.000000     NaN            NaN             NaN   \n",
      "\n",
      "       Employment_Status  Credit_Score   Loan_Amount Loan_Purpose      Default  \n",
      "count               1000   1000.000000   1000.000000         1000  1000.000000  \n",
      "unique                 4           NaN           NaN            5          NaN  \n",
      "top              Student           NaN           NaN          Car          NaN  \n",
      "freq                 268           NaN           NaN          214          NaN  \n",
      "mean                 NaN    648.457000  25541.871000          NaN     0.152000  \n",
      "std                  NaN     71.628422  13901.844928          NaN     0.359201  \n",
      "min                  NaN    444.000000   1048.000000          NaN     0.000000  \n",
      "25%                  NaN    598.000000  13643.750000          NaN     0.000000  \n",
      "50%                  NaN    649.000000  25544.000000          NaN     0.000000  \n",
      "75%                  NaN    697.000000  37800.750000          NaN     0.000000  \n",
      "max                  NaN    877.000000  49904.000000          NaN     1.000000  \n"
     ]
    }
   ],
   "source": [
    "import pandas as pd\n",
    "import numpy as np\n",
    "\n",
    "# Set seed agar hasil reproducible\n",
    "np.random.seed(42)\n",
    "\n",
    "# Jumlah data\n",
    "n_rows = 1000\n",
    "\n",
    "# Membuat data sintetis\n",
    "data = {\n",
    "    \"Age\": np.random.randint(18, 70, size=n_rows),\n",
    "    \"Income\": np.random.normal(50000, 15000, size=n_rows).astype(int),\n",
    "    \"Gender\": np.random.choice(['Male', 'Female'], size=n_rows),\n",
    "    \"Marital_Status\": np.random.choice(['Single', 'Married', 'Divorced', 'Widowed'], size=n_rows),\n",
    "    \"Education_Level\": np.random.choice(['High School', 'Bachelor', 'Master', 'PhD'], size=n_rows),\n",
    "    \"Employment_Status\": np.random.choice(['Employed', 'Unemployed', 'Self-employed', 'Student'], size=n_rows),\n",
    "    \"Credit_Score\": np.random.normal(650, 70, size=n_rows).astype(int),\n",
    "    \"Loan_Amount\": np.random.randint(1000, 50000, size=n_rows),\n",
    "    \"Loan_Purpose\": np.random.choice(['Home', 'Car', 'Education', 'Business', 'Personal'], size=n_rows),\n",
    "    \"Default\": np.random.choice([0, 1], size=n_rows, p=[0.85, 0.15])  # 0 = Tidak gagal bayar, 1 = Gagal bayar\n",
    "}\n",
    "\n",
    "# Membuat DataFrame\n",
    "df = pd.DataFrame(data)\n",
    "\n",
    "# Menampilkan 5 data teratas\n",
    "print(df.head())\n",
    "\n",
    "# Analisis statistik sederhana\n",
    "print(\"\\nStatistik Deskriptif:\")\n",
    "print(df.describe(include='all'))\n"
   ]
  },
  {
   "cell_type": "code",
   "execution_count": null,
   "id": "9d08997f-a5a3-4a92-a0b7-eee64ca392e2",
   "metadata": {},
   "outputs": [],
   "source": []
  }
 ],
 "metadata": {
  "kernelspec": {
   "display_name": "Python [conda env:base] *",
   "language": "python",
   "name": "conda-base-py"
  },
  "language_info": {
   "codemirror_mode": {
    "name": "ipython",
    "version": 3
   },
   "file_extension": ".py",
   "mimetype": "text/x-python",
   "name": "python",
   "nbconvert_exporter": "python",
   "pygments_lexer": "ipython3",
   "version": "3.12.7"
  }
 },
 "nbformat": 4,
 "nbformat_minor": 5
}
